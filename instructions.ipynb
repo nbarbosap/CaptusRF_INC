{
 "cells": [
  {
   "cell_type": "markdown",
   "metadata": {},
   "source": [
    "# Practical dosimetry exercise\n",
    "-------"
   ]
  },
  {
   "cell_type": "markdown",
   "metadata": {},
   "source": [
    "## Introduction\n",
    "<p class=\"text-justify\">The aim of the exercise is to perform dosimetry for a real case and to experiment with different parameters to determine the effect on the results. This is only an exercise, and there is no right answer (although there are an infinite number of wrong answers!). The main aim is simply to understand the different stages involved in calculating an absorbed dose and how the input may affect the outcome.</p>"
   ]
  },
  {
   "cell_type": "markdown",
   "metadata": {},
   "source": [
    "<p class='bg-info'>**Throughout the exercise, make a note of each factor that will have an impact on the final result and try to assess the relative importance of each of these factors. We will discuss these parameters at the end of the course, and perhaps even reach a common consensus!**</p>"
   ]
  },
  {
   "cell_type": "markdown",
   "metadata": {},
   "source": [
    "<p class='text-justify'>This exercise concerns a patient treated with Y-90 Dotatate for phaeochromocytoma. The administered activity was ‘spiked’ with In-111 Dotatate to allow for imaging and dosimetry. The In-111 scans are used to calculate the absorbed dose delivered from the Y-90. You will use `Slicer3D` for image viewing and data acquisition. There is an icon for `Slicer3D` on the desktop.<br>\n",
    "<br>\n",
    "In the subfolder `CT` are 128 slices of a CT scan. Note that the CT data is included for interest, but is not specifically required for the practical. <br>\n",
    "In the subfolder `SPECT` are sequential scans that were acquired at 18.18, 41.90 and 65.55 hours post administration respectively and with scan times of 20, 30 and 60 s/view respectively.<br><br>\n",
    "The patient was administered 4045 MBq of Y-90 DOTATATE (physical half-life 64.08 h) for therapy, with 161 MBq of In-111 (physical half-life 67.92 h). The calibration factor is 8500 cts / MBq.s.\n",
    "</p>"
   ]
  },
  {
   "cell_type": "markdown",
   "metadata": {},
   "source": [
    "# Practical\n",
    "-----\n",
    "1. DC `slicer3D` icon (on the desktop) to open it. Slicer interface will appear.\n",
    "2. Click on `dcm button` on the toolbar to open graphic interface for import/exporting dicom images.\n",
    "3. Click `import button` to import CT and SPECT images.\n",
    "4. Select CT and SPECT images and click on `load button`. The CT image will be displayed but the windowing will require adjustment as explained in this screenshot.\n",
    "5. SPECT images can be surimposed on CT images and LUT could be changed \n",
    "\n",
    "The next video illustrates the main steps explained above."
   ]
  },
  {
   "cell_type": "code",
   "execution_count": 1,
   "metadata": {},
   "outputs": [
    {
     "data": {
      "text/html": [
       "\n",
       "<video width=\"640\" height=\"480\" controls>\n",
       "  <source src=\"Trieste.mp4\" type=\"video/mp4\">\n",
       "</video>\n"
      ],
      "text/plain": [
       "<IPython.core.display.HTML object>"
      ]
     },
     "execution_count": 1,
     "metadata": {},
     "output_type": "execute_result"
    }
   ],
   "source": [
    "from IPython.display import HTML\n",
    "HTML(\"\"\"\n",
    "<video width=\"640\" height=\"480\" controls>\n",
    "  <source src=\"Trieste.mp4\" type=\"video/mp4\">\n",
    "</video>\n",
    "\"\"\")"
   ]
  },
  {
   "cell_type": "markdown",
   "metadata": {},
   "source": [
    "Next step would be to segment the central pancreatic tumour and left and right kidneys as explained in the next video."
   ]
  },
  {
   "cell_type": "code",
   "execution_count": 2,
   "metadata": {},
   "outputs": [
    {
     "data": {
      "text/html": [
       "\n",
       "<video width=\"640\" height=\"480\" controls>\n",
       "  <source src=\"Segmentation.mp4\" type=\"video/mp4\">\n",
       "</video>\n"
      ],
      "text/plain": [
       "<IPython.core.display.HTML object>"
      ]
     },
     "execution_count": 2,
     "metadata": {},
     "output_type": "execute_result"
    }
   ],
   "source": [
    "from IPython.display import HTML\n",
    "HTML(\"\"\"\n",
    "<video width=\"640\" height=\"480\" controls>\n",
    "  <source src=\"Segmentation.mp4\" type=\"video/mp4\">\n",
    "</video>\n",
    "\"\"\")"
   ]
  },
  {
   "cell_type": "markdown",
   "metadata": {},
   "source": [
    "Next step requires to extract detected counts per segmented volume. Use `Label Statistics` menu located in `quantification` menu for each image time point and save each results as a `csv file` named D1.csv, D2.csv and D3.csv for D1, D2 and D3 images respectively."
   ]
  },
  {
   "cell_type": "markdown",
   "metadata": {},
   "source": [
    "## Playing with data\n",
    "-----\n",
    "In subsequent section, we provide some python scripts that perform dosimetric calculations from extracted imaging data."
   ]
  },
  {
   "cell_type": "markdown",
   "metadata": {},
   "source": [
    "`Pandas` is a very convenient library that contains high-level data structures and manipulation tools designed to make data analysis fast and easy in Python. It's built on top of `numpy` which a famous python library dedicated to numeric analysis."
   ]
  },
  {
   "cell_type": "code",
   "execution_count": 3,
   "metadata": {},
   "outputs": [],
   "source": [
    "# in order to plot graphics inside the notebook\n",
    "%matplotlib inline \n",
    "\n",
    "import pandas as pd\n",
    "import numpy as np\n",
    "#\n",
    "# Physics constant and injected activities\n",
    "#\n",
    "A0_Y90_MBq = 4045\n",
    "A0_In111_MBq = 161\n",
    "T_Phys_Y90_h = 64.08\n",
    "T_Phys_In111_h = 67.92\n",
    "sensitivity_cts_per_MBq_s = 8500 # camera sensitivity\n",
    "\n",
    "post_inject_acq_time_h = [18.18, 41.90, 65.55]\n",
    "acq_proj_duration_s = [20, 30, 60]\n",
    "dead_time_factor = [1,1,1]\n",
    "\n",
    "# we must take into account the fact that imaging is performed with In-111\n",
    "# whereas therapy is performed with Y-90\n",
    "# correction factor for each time point\n",
    "corr_factor = [A0_Y90_MBq/A0_In111_MBq*np.exp((np.log(2)/T_Phys_In111_h-np.log(2)/T_Phys_Y90_h)*p_i)\\\n",
    "                                                                       for p_i in post_inject_acq_time_h]"
   ]
  },
  {
   "cell_type": "code",
   "execution_count": 4,
   "metadata": {
    "collapsed": true
   },
   "outputs": [],
   "source": [
    "\n",
    "# just reading above created csv files \n",
    "data1 = pd.read_csv('./D1.csv',usecols=(0,2,4,7))\n",
    "data2 = pd.read_csv('./D2.csv',usecols=(0,2,4,7))\n",
    "data3 = pd.read_csv('./D3.csv',usecols=(0,2,4,7))"
   ]
  },
  {
   "cell_type": "markdown",
   "metadata": {},
   "source": [
    "data1, data2 and data3 contain extracted useful information from the csv files. `Type` stands for the labels from 0 to 4,  `Count` and  `Volume cc`  are the number of voxels for each label and the respective volume and `Mean` is detected count density.\n",
    "\n",
    "|Type |label_name|\n",
    "|-----|----------|\n",
    "|0|Nothing |\n",
    "|1|Pancreatic Tumour|\n",
    "|2|Right kidney|\n",
    "|3|Left kidney|\n",
    "|4|Liver tumour|"
   ]
  },
  {
   "cell_type": "code",
   "execution_count": 5,
   "metadata": {},
   "outputs": [
    {
     "data": {
      "text/html": [
       "<div>\n",
       "<table border=\"1\" class=\"dataframe\">\n",
       "  <thead>\n",
       "    <tr style=\"text-align: right;\">\n",
       "      <th></th>\n",
       "      <th>Type</th>\n",
       "      <th>Count</th>\n",
       "      <th>Volume cc</th>\n",
       "      <th>Mean</th>\n",
       "    </tr>\n",
       "  </thead>\n",
       "  <tbody>\n",
       "    <tr>\n",
       "      <th>0</th>\n",
       "      <td>0</td>\n",
       "      <td>2087298</td>\n",
       "      <td>61151.308594</td>\n",
       "      <td>51.405451</td>\n",
       "    </tr>\n",
       "    <tr>\n",
       "      <th>1</th>\n",
       "      <td>1</td>\n",
       "      <td>4791</td>\n",
       "      <td>140.361328</td>\n",
       "      <td>1608.816740</td>\n",
       "    </tr>\n",
       "    <tr>\n",
       "      <th>2</th>\n",
       "      <td>2</td>\n",
       "      <td>2905</td>\n",
       "      <td>85.107422</td>\n",
       "      <td>1339.190361</td>\n",
       "    </tr>\n",
       "    <tr>\n",
       "      <th>3</th>\n",
       "      <td>3</td>\n",
       "      <td>2125</td>\n",
       "      <td>62.255859</td>\n",
       "      <td>1233.743059</td>\n",
       "    </tr>\n",
       "    <tr>\n",
       "      <th>4</th>\n",
       "      <td>4</td>\n",
       "      <td>33</td>\n",
       "      <td>0.966797</td>\n",
       "      <td>1305.545455</td>\n",
       "    </tr>\n",
       "  </tbody>\n",
       "</table>\n",
       "</div>"
      ],
      "text/plain": [
       "   Type    Count     Volume cc         Mean\n",
       "0     0  2087298  61151.308594    51.405451\n",
       "1     1     4791    140.361328  1608.816740\n",
       "2     2     2905     85.107422  1339.190361\n",
       "3     3     2125     62.255859  1233.743059\n",
       "4     4       33      0.966797  1305.545455"
      ]
     },
     "execution_count": 5,
     "metadata": {},
     "output_type": "execute_result"
    }
   ],
   "source": [
    "data1"
   ]
  },
  {
   "cell_type": "markdown",
   "metadata": {},
   "source": [
    "It's very easy to define new columns in the structure or create new structure that concatenate others. "
   ]
  },
  {
   "cell_type": "code",
   "execution_count": 6,
   "metadata": {},
   "outputs": [
    {
     "data": {
      "text/html": [
       "<div>\n",
       "<table border=\"1\" class=\"dataframe\">\n",
       "  <thead>\n",
       "    <tr style=\"text-align: right;\">\n",
       "      <th></th>\n",
       "      <th>Type</th>\n",
       "      <th>Count</th>\n",
       "      <th>Volume cc</th>\n",
       "      <th>Mean</th>\n",
       "      <th>Total_count</th>\n",
       "      <th>pi_time_h</th>\n",
       "      <th>acq_duration</th>\n",
       "    </tr>\n",
       "  </thead>\n",
       "  <tbody>\n",
       "    <tr>\n",
       "      <th>0</th>\n",
       "      <td>0</td>\n",
       "      <td>2087298</td>\n",
       "      <td>61151.308594</td>\n",
       "      <td>51.405451</td>\n",
       "      <td>1.072985e+08</td>\n",
       "      <td>18.18</td>\n",
       "      <td>20</td>\n",
       "    </tr>\n",
       "    <tr>\n",
       "      <th>1</th>\n",
       "      <td>1</td>\n",
       "      <td>4791</td>\n",
       "      <td>140.361328</td>\n",
       "      <td>1608.816740</td>\n",
       "      <td>7.707841e+06</td>\n",
       "      <td>18.18</td>\n",
       "      <td>20</td>\n",
       "    </tr>\n",
       "    <tr>\n",
       "      <th>2</th>\n",
       "      <td>2</td>\n",
       "      <td>2905</td>\n",
       "      <td>85.107422</td>\n",
       "      <td>1339.190361</td>\n",
       "      <td>3.890348e+06</td>\n",
       "      <td>18.18</td>\n",
       "      <td>20</td>\n",
       "    </tr>\n",
       "    <tr>\n",
       "      <th>3</th>\n",
       "      <td>3</td>\n",
       "      <td>2125</td>\n",
       "      <td>62.255859</td>\n",
       "      <td>1233.743059</td>\n",
       "      <td>2.621704e+06</td>\n",
       "      <td>18.18</td>\n",
       "      <td>20</td>\n",
       "    </tr>\n",
       "    <tr>\n",
       "      <th>4</th>\n",
       "      <td>4</td>\n",
       "      <td>33</td>\n",
       "      <td>0.966797</td>\n",
       "      <td>1305.545455</td>\n",
       "      <td>4.308300e+04</td>\n",
       "      <td>18.18</td>\n",
       "      <td>20</td>\n",
       "    </tr>\n",
       "  </tbody>\n",
       "</table>\n",
       "</div>"
      ],
      "text/plain": [
       "   Type    Count     Volume cc         Mean   Total_count  pi_time_h  \\\n",
       "0     0  2087298  61151.308594    51.405451  1.072985e+08      18.18   \n",
       "1     1     4791    140.361328  1608.816740  7.707841e+06      18.18   \n",
       "2     2     2905     85.107422  1339.190361  3.890348e+06      18.18   \n",
       "3     3     2125     62.255859  1233.743059  2.621704e+06      18.18   \n",
       "4     4       33      0.966797  1305.545455  4.308300e+04      18.18   \n",
       "\n",
       "   acq_duration  \n",
       "0            20  \n",
       "1            20  \n",
       "2            20  \n",
       "3            20  \n",
       "4            20  "
      ]
     },
     "execution_count": 6,
     "metadata": {},
     "output_type": "execute_result"
    }
   ],
   "source": [
    "data1['Total_count']=data1['Mean']*data1['Count']\n",
    "data1['pi_time_h'] = post_inject_acq_time_h[0]\n",
    "data1['acq_duration'] = acq_proj_duration_s[0]\n",
    "\n",
    "data2['Total_count']=data2['Mean']*data2['Count']\n",
    "data2['pi_time_h'] = post_inject_acq_time_h[1]\n",
    "data2['acq_duration'] = acq_proj_duration_s[1]\n",
    "\n",
    "data3['Total_count']=data3['Mean']*data3['Count']\n",
    "data3['pi_time_h'] = post_inject_acq_time_h[2]\n",
    "data3['acq_duration'] = acq_proj_duration_s[2]\n",
    "\n",
    "data=pd.concat([data1,data2,data3])\n",
    "data.head()"
   ]
  },
  {
   "cell_type": "markdown",
   "metadata": {},
   "source": [
    "Let's filter the structure to get data per tissue of interest and assign the results as new variables"
   ]
  },
  {
   "cell_type": "code",
   "execution_count": 7,
   "metadata": {},
   "outputs": [
    {
     "data": {
      "text/html": [
       "<div>\n",
       "<table border=\"1\" class=\"dataframe\">\n",
       "  <thead>\n",
       "    <tr style=\"text-align: right;\">\n",
       "      <th></th>\n",
       "      <th>pi_time_h</th>\n",
       "      <th>Total_count</th>\n",
       "      <th>acq_duration</th>\n",
       "      <th>Volume cc</th>\n",
       "      <th>Act_MBq_In-111</th>\n",
       "      <th>Act_MBq_Y-90</th>\n",
       "    </tr>\n",
       "  </thead>\n",
       "  <tbody>\n",
       "    <tr>\n",
       "      <th>1</th>\n",
       "      <td>18.18</td>\n",
       "      <td>7707840.999999</td>\n",
       "      <td>20</td>\n",
       "      <td>140.361328</td>\n",
       "      <td>45.340241</td>\n",
       "      <td>1120.973400</td>\n",
       "    </tr>\n",
       "    <tr>\n",
       "      <th>1</th>\n",
       "      <td>41.90</td>\n",
       "      <td>2728893.999998</td>\n",
       "      <td>30</td>\n",
       "      <td>140.361328</td>\n",
       "      <td>10.701545</td>\n",
       "      <td>260.770248</td>\n",
       "    </tr>\n",
       "    <tr>\n",
       "      <th>1</th>\n",
       "      <td>65.55</td>\n",
       "      <td>1652223.000001</td>\n",
       "      <td>60</td>\n",
       "      <td>140.361328</td>\n",
       "      <td>3.239653</td>\n",
       "      <td>77.808798</td>\n",
       "    </tr>\n",
       "  </tbody>\n",
       "</table>\n",
       "</div>"
      ],
      "text/plain": [
       "   pi_time_h     Total_count  acq_duration   Volume cc  Act_MBq_In-111  \\\n",
       "1      18.18  7707840.999999            20  140.361328       45.340241   \n",
       "1      41.90  2728893.999998            30  140.361328       10.701545   \n",
       "1      65.55  1652223.000001            60  140.361328        3.239653   \n",
       "\n",
       "   Act_MBq_Y-90  \n",
       "1   1120.973400  \n",
       "1    260.770248  \n",
       "1     77.808798  "
      ]
     },
     "execution_count": 7,
     "metadata": {},
     "output_type": "execute_result"
    }
   ],
   "source": [
    "# Filtering data for interesting tissues could be perform as this :\n",
    "data_T = data[data.Type==1][['pi_time_h','Total_count','acq_duration','Volume cc']]\n",
    "data_LK = data[data.Type==2][['pi_time_h','Total_count','acq_duration','Volume cc']]\n",
    "data_RK = data[data.Type==3][['pi_time_h','Total_count','acq_duration','Volume cc']]\n",
    "data_Liver_T = data[data.Type==4][['pi_time_h','Total_count','acq_duration','Volume cc']]\n",
    "# column creation\n",
    "data_T['Act_MBq_In-111'] = data_T['Total_count']/data_T['acq_duration']/sensitivity_cts_per_MBq_s\n",
    "data_LK['Act_MBq_In-111'] = data_LK['Total_count']/data_LK['acq_duration']/sensitivity_cts_per_MBq_s\n",
    "data_RK['Act_MBq_In-111'] = data_RK['Total_count']/data_RK['acq_duration']/sensitivity_cts_per_MBq_s\n",
    "data_Liver_T['Act_MBq_In-111'] = data_Liver_T['Total_count']/data_Liver_T['acq_duration']/sensitivity_cts_per_MBq_s\n",
    "\n",
    "data_T['Act_MBq_Y-90'] = data_T['Act_MBq_In-111']*corr_factor*dead_time_factor\n",
    "data_LK['Act_MBq_Y-90'] = data_LK['Act_MBq_In-111']*corr_factor*dead_time_factor\n",
    "data_RK['Act_MBq_Y-90'] = data_RK['Act_MBq_In-111']*corr_factor*dead_time_factor\n",
    "data_Liver_T['Act_MBq_Y-90'] = data_Liver_T['Act_MBq_In-111']*corr_factor*dead_time_factor\n",
    "# just to see what we get so far\n",
    "data_T"
   ]
  },
  {
   "cell_type": "markdown",
   "metadata": {},
   "source": [
    "Some visualization snippets."
   ]
  },
  {
   "cell_type": "code",
   "execution_count": 8,
   "metadata": {},
   "outputs": [
    {
     "data": {
      "text/plain": [
       "<matplotlib.text.Text at 0x10b712fd0>"
      ]
     },
     "execution_count": 8,
     "metadata": {},
     "output_type": "execute_result"
    },
    {
     "data": {
      "image/png": "[encoded data removed]",
      "text/plain": [
       "<matplotlib.figure.Figure at 0x108ef2310>"
      ]
     },
     "metadata": {},
     "output_type": "display_data"
    }
   ],
   "source": [
    "import matplotlib.pyplot as plt\n",
    "\n",
    "plt.plot(data_T['pi_time_h'],data_T['Act_MBq_Y-90'],'*-', data_T['pi_time_h'], data_LK['Act_MBq_Y-90'],'<-',\n",
    "        data_T['pi_time_h'], data_RK['Act_MBq_Y-90'],'o-',data_T['pi_time_h'], data_Liver_T['Act_MBq_Y-90'],'v-')\n",
    "\n",
    "plt.legend(['Tumour','LK','RK','Liver T'])\n",
    "plt.xlabel('hours post injection')\n",
    "plt.ylabel('Act. $^{90}Y$ (MBq)')\n",
    "plt.title('Time activity curve \\n for organs and tumours')"
   ]
  },
  {
   "cell_type": "markdown",
   "metadata": {},
   "source": [
    "Next step would be to adjust data with a mono-exponential model. `scipy` library offers `curve_fit` function to do so.\n",
    "Once done, we could compute the cumulated activity."
   ]
  },
  {
   "cell_type": "code",
   "execution_count": 9,
   "metadata": {},
   "outputs": [],
   "source": [
    "# mono-exponential function\n",
    "def monoexpo(x, a, b):\n",
    "    return a*np.exp(-np.log(2)*x/b)\n",
    "\n",
    "from scipy.optimize import curve_fit\n",
    "\n",
    "fit_mono, fit_cov_mono = curve_fit(monoexpo, data_T.pi_time_h,\n",
    "                                       data_T['Act_MBq_Y-90'],\n",
    "                                       p0=(data_T['Act_MBq_Y-90'].iloc[0],T_Phys_Y90_h))\n",
    "cumulated_activity = fit_mono[0]*fit_mono[1]/np.log(2)"
   ]
  },
  {
   "cell_type": "markdown",
   "metadata": {},
   "source": [
    "`Y90_SFactor.txt` contains tabulated S factors for different spherical masses and values are presented in following graph."
   ]
  },
  {
   "cell_type": "code",
   "execution_count": 10,
   "metadata": {},
   "outputs": [
    {
     "data": {
      "text/plain": [
       "<matplotlib.text.Text at 0x10ca3f550>"
      ]
     },
     "execution_count": 10,
     "metadata": {},
     "output_type": "execute_result"
    },
    {
     "data": {
      "image/png": "[encoded data removed]",
      "text/plain": [
       "<matplotlib.figure.Figure at 0x108ed9a90>"
      ]
     },
     "metadata": {},
     "output_type": "display_data"
    }
   ],
   "source": [
    "Sfactor = pd.read_csv('./Y90_SFactor.txt', delimiter='\\t')\n",
    "plt.plot(Sfactor['Tumour mass(g)'],Sfactor['S value Gy/(MBq.h)'])\n",
    "plt.yscale('log')\n",
    "plt.xlabel('Tumour mass (g)')\n",
    "plt.ylabel('S value Gy/(MBq.h)')"
   ]
  },
  {
   "cell_type": "markdown",
   "metadata": {},
   "source": [
    "We could interpolate the S factor value for the mass of the volume of interest and hence we are able to calculate the absorbed dose."
   ]
  },
  {
   "cell_type": "code",
   "execution_count": 11,
   "metadata": {},
   "outputs": [
    {
     "name": "stdout",
     "output_type": "stream",
     "text": [
      "abs. dose:  244.70 Gy\n"
     ]
    }
   ],
   "source": [
    "sfactor_T = np.interp(data_T['Volume cc'].iloc[0], Sfactor['Tumour mass(g)'], Sfactor['S value Gy/(MBq.h)'])\n",
    "dose_T_Gy = sfactor_T*cumulated_activity\n",
    "print \"abs. dose:  {0:.2f} Gy\".format(dose_T_Gy)"
   ]
  },
  {
   "cell_type": "markdown",
   "metadata": {},
   "source": [
    "## Biological equivalent dose\n",
    "----"
   ]
  },
  {
   "cell_type": "markdown",
   "metadata": {},
   "source": [
    "In addition, we will now explore the relation between the absorbed doses calculated and radiobiological parameters\n",
    "\n",
    "Biologically Effective Dose\n",
    "\n",
    "An expression for BED for molecular radiotherapy is :\n",
    "$$ BED = D \\left( 1 + \\frac{D \\lambda}{(\\mu+\\lambda)(\\frac{\\alpha}{\\beta})} \\right )$$\n",
    "\n",
    " \n",
    "\n",
    "Where D is the total physical absorbed dose, λ is the effective decay constant of TRT dose rate, assuming mono-exponential decay, μ is the constant of repair of sublethal damage, and α and β are tissue specific parameters.  \n"
   ]
  },
  {
   "cell_type": "code",
   "execution_count": 61,
   "metadata": {},
   "outputs": [
    {
     "data": {
      "text/plain": [
       "724.48041211142879"
      ]
     },
     "metadata": {},
     "output_type": "display_data"
    },
    {
     "name": "stdout",
     "output_type": "stream",
     "text": [
      "BED:  724.65 Gy\n"
     ]
    }
   ],
   "source": [
    "from ipywidgets import interact, interactive\n",
    "def calcul_bed(alpha_beta=10, repair=1, periode=10):\n",
    "    coef = (dose_T_Gy * (np.log(2)/periode))/(((np.log(2)/periode) \\\n",
    "                                                    + (np.log(2)/repair))*alpha_beta)\n",
    "    return dose_T_Gy * (1 + coef)\n",
    "    \n",
    "repair_hlf_h = 1\n",
    "radio_sensitivity_fraction = 10\n",
    "effective_hlf_h = fit_mono[1]\n",
    "interact(calcul_bed,alpha_beta=(1,10), repair = (0.01,5,0.2),periode=np.round(fit_mono[1],2))\n",
    "print \"BED:  {0:.2f} Gy\".format(calcul_bed(radio_sensitivity_fraction, repair_hlf_h, effective_hlf_h))"
   ]
  }
 ],
 "metadata": {
  "kernelspec": {
   "display_name": "Python 3",
   "language": "python",
   "name": "python3"
  },
  "language_info": {
   "codemirror_mode": {
    "name": "ipython",
    "version": 3
   },
   "file_extension": ".py",
   "mimetype": "text/x-python",
   "name": "python",
   "nbconvert_exporter": "python",
   "pygments_lexer": "ipython3",
   "version": "3.7.4"
  }
 },
 "nbformat": 4,
 "nbformat_minor": 1
}
