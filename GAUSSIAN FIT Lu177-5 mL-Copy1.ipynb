{
 "cells": [
  {
   "cell_type": "markdown",
   "metadata": {},
   "source": [
    "# Lu 177 adjust spectrum and calibration (Source, plastic vial 5 mL)"
   ]
  },
  {
   "cell_type": "code",
   "execution_count": 1,
   "metadata": {},
   "outputs": [],
   "source": [
    "import numpy as np\n",
    "import matplotlib\n",
    "import matplotlib.pyplot as plt\n",
    "import pylab as plb\n",
    "import scipy as scipy\n",
    "import pandas as pd\n",
    "import numpy as np\n",
    "\n",
    "from scipy import optimize\n",
    "from scipy.optimize import curve_fit\n",
    "from scipy import asarray as ar,exp\n",
    "from matplotlib.ticker import AutoMinorLocator\n",
    "from matplotlib import gridspec\n",
    "import matplotlib.ticker as ticker\n",
    "%matplotlib inline\n"
   ]
  },
  {
   "cell_type": "code",
   "execution_count": 2,
   "metadata": {},
   "outputs": [],
   "source": [
    "data = np.genfromtxt('dataLu177_3.txt')\n",
    "x = np.genfromtxt('dataLu177_3.txt',usecols=(0))\n",
    "def gaussian(x, height, center, width, offset):\n",
    "    return height*np.exp(-(x - center)**2/(2*width**2)) + offset\n",
    "def three_gaussians(x, h1, c1, w1, h2, c2, w2, h3, c3, w3, offset):\n",
    "    return (gaussian(x, h1, c1, w1, offset=0) +\n",
    "        gaussian(x, h2, c2, w2, offset=0) +\n",
    "        gaussian(x, h3, c3, w3, offset=0) + offset)\n",
    "def two_gaussians(x, h1, c1, w1, h2, c2, w2, offset):\n",
    "    return three_gaussians(x, h1, c1, w1, h2, c2, w2, 0,0,1, offset)"
   ]
  },
  {
   "cell_type": "code",
   "execution_count": 3,
   "metadata": {},
   "outputs": [],
   "source": [
    "errfunc3 = lambda p, x, y: (three_gaussians(x, *p) - y)**2\n",
    "errfunc2 = lambda p, x, y: (two_gaussians(x, *p) - y)**2\n",
    "errfunc1 = lambda p, x, y: (gaussian(x, *p) - y)**2"
   ]
  },
  {
   "cell_type": "code",
   "execution_count": 4,
   "metadata": {},
   "outputs": [
    {
     "name": "stdout",
     "output_type": "stream",
     "text": [
      "[2.67512357e+04 1.14100259e+02 5.89325920e+00 1.99801075e+04\n",
      " 2.10217122e+02 8.63684531e+00 4.19780306e+03]\n"
     ]
    }
   ],
   "source": [
    "guess3 = [13633, 114, 10, 10000, 212, 10, 2000, 150, 150, 0]  # I guess there are 3 peaks, 2 are clear, but between them there seems to be another one, based on the change in slope smoothness there\n",
    "guess2 = [13633, 114, 10, 10000, 212, 10, 0]  # I removed the peak I'm not too sure about\n",
    "guess1 = [10000, 212, 10, -100]  # I removed the peak I'm not too sure about\n",
    "optim3, success = optimize.leastsq(errfunc3, guess3[:], args=(data[:,0], data[:,1]))\n",
    "optim2, success = optimize.leastsq(errfunc2, guess2[:], args=(data[:,0], data[:,1]))\n",
    "optim1, success = optimize.leastsq(errfunc1, guess1[:], args=(data[:,0], data[:,1]))\n",
    "\n",
    "perr_3gauss = np.sqrt(np.diag(optim3))\n",
    "\n",
    "pars_1 = optim2[0:3]\n",
    "pars_2 = optim2[3:6]\n",
    "pars_3 = optim3[6:9]\n",
    "\n",
    "print(optim2)\n",
    "\n",
    "gauss_peak_1 = gaussian(x, *pars_1,0)\n",
    "gauss_peak_2 = gaussian(x, *pars_2,0)\n",
    "gauss_peak_3 = gaussian(x, *pars_3,0)"
   ]
  },
  {
   "cell_type": "code",
   "execution_count": 5,
   "metadata": {},
   "outputs": [
    {
     "name": "stdout",
     "output_type": "stream",
     "text": [
      "-------------Peak 1-------------\n",
      "amplitude = 26751.24 (+/-) 169.94\n",
      "center = 114.10 (+/-) 10.68\n",
      "sigma = 5.89 (+/-) 2.62\n",
      "area = 212857.13\n",
      "--------------------------------\n",
      "-------------Peak 2-------------\n",
      "amplitude = 19980.11 (+/-) 147.11\n",
      "center = 210.22 (+/-) 14.50\n",
      "sigma = 8.64 (+/-) 3.30\n",
      "area = 216278.28\n",
      "--------------------------------\n",
      "-------------Peak 3-------------\n",
      "amplitude = 26684.75 (+/-) 163.35\n",
      "center = 57.88 (+/-) 7.61\n",
      "sigma = 6.05 (+/-) 2.46\n",
      "area = 220095.87\n",
      "--------------------------------\n"
     ]
    }
   ],
   "source": [
    "# this cell prints the fitting parameters with their errors\n",
    "print (\"-------------Peak 1-------------\")\n",
    "print (\"amplitude = %0.2f (+/-) %0.2f\" % (pars_1 [0],perr_3gauss[0,0]))\n",
    "print (\"center = %0.2f (+/-) %0.2f\" % (pars_1 [1], perr_3gauss[1,1]))\n",
    "print (\"sigma = %0.2f (+/-) %0.2f\" % (pars_1 [2], perr_3gauss[2,2]))\n",
    "print (\"area = %0.2f\" % np.trapz(gauss_peak_1))\n",
    "print (\"--------------------------------\")\n",
    "print (\"-------------Peak 2-------------\")\n",
    "print (\"amplitude = %0.2f (+/-) %0.2f\" % (pars_2 [0], perr_3gauss[3,3]))\n",
    "print (\"center = %0.2f (+/-) %0.2f\" % (pars_2 [1], perr_3gauss[4,4]))\n",
    "print (\"sigma = %0.2f (+/-) %0.2f\" % (pars_2 [2], perr_3gauss[5,5]))\n",
    "print (\"area = %0.2f\" % np.trapz(gauss_peak_2))\n",
    "print (\"--------------------------------\")\n",
    "print (\"-------------Peak 3-------------\")\n",
    "print (\"amplitude = %0.2f (+/-) %0.2f\" % (optim3 [6], perr_3gauss[6,6]))\n",
    "print (\"center = %0.2f (+/-) %0.2f\" % (optim3 [7], perr_3gauss[7,7]))\n",
    "print (\"sigma = %0.2f (+/-) %0.2f\" % (optim3 [8], perr_3gauss[8,8]))\n",
    "print (\"area = %0.2f\" % np.trapz(gauss_peak_3))\n",
    "print (\"--------------------------------\")\n"
   ]
  },
  {
   "cell_type": "code",
   "execution_count": 6,
   "metadata": {},
   "outputs": [
    {
     "data": {
      "image/png": "[encoded data removed]",
      "text/plain": [
       "<Figure size 432x288 with 1 Axes>"
      ]
     },
     "metadata": {
      "needs_background": "light"
     },
     "output_type": "display_data"
    }
   ],
   "source": [
    "plt.plot(data[:,0], data[:,1], lw=5, c='g', label='measurement')\n",
    "#plt.plot(data[:,0], three_gaussians(data[:,0], *optim3),\n",
    "   # lw=3, c='b', label='fit of 3 Gaussians')\n",
    "#plt.plot(data[:,0], two_gaussians(data[:,0], *optim2),\n",
    "  #  lw=1, c='r', ls='--', label='fit of 2 Gaussians')\n",
    "plt.plot(data[:,0], three_gaussians(data[:,0], *optim3),\n",
    "    lw=1, c='b', ls='--', label='fit of 3 Gaussians')\n",
    "plt.title('Fig. 1 - Fit for Lu-177')\n",
    "plt.xlabel('Energy (keV)', fontsize=18)\n",
    "plt.ylabel('Counts' , fontsize=18)\n",
    "plt.legend(loc='best')\n",
    "plt.xlim((0,500))\n",
    "plt.savefig('resultLu177_2.png')"
   ]
  },
  {
   "cell_type": "code",
   "execution_count": 7,
   "metadata": {},
   "outputs": [
    {
     "name": "stdout",
     "output_type": "stream",
     "text": [
      "Residual error when fitting 3 Gaussians: 1323205.8834887568\n",
      "Residual error when fitting 2 Gaussians: 3928927.47590387\n"
     ]
    }
   ],
   "source": [
    "err3 = np.sqrt(errfunc3(optim3, data[:,0], data[:,1])).sum()\n",
    "err2 = np.sqrt(errfunc2(optim2, data[:,0], data[:,1])).sum()\n",
    "print('Residual error when fitting 3 Gaussians: {}\\n'\n",
    "    'Residual error when fitting 2 Gaussians: {}'.format(err3, err2))"
   ]
  },
  {
   "cell_type": "code",
   "execution_count": 11,
   "metadata": {},
   "outputs": [
    {
     "name": "stdout",
     "output_type": "stream",
     "text": [
      "Counts per second = 1748.83\n",
      "Efficiency = 102.50\n"
     ]
    }
   ],
   "source": [
    "#Efficiency based on peak 2 in cps / kBq \n",
    "counts = (np.trapz(gauss_peak_2))\n",
    "cps = (counts/123.67)\n",
    "print (\"Counts per second = %0.2f\" % cps)\n",
    "Efficiency_Peak2 = (cps/0.1036)/(164.6835987)#Activity at the measuring time\n",
    "print (\"Efficiency = %0.2f\" %Efficiency_Peak2)"
   ]
  },
  {
   "cell_type": "code",
   "execution_count": 12,
   "metadata": {},
   "outputs": [
    {
     "name": "stdout",
     "output_type": "stream",
     "text": [
      "Counts per second = 1727.60\n",
      "Efficiency = 170.02\n"
     ]
    }
   ],
   "source": [
    "#Efficiency based on peak 1 in cps / kBq \n",
    "counts = (np.trapz(gauss_peak_1))\n",
    "cps = (counts/123.21)\n",
    "print (\"Counts per second = %0.2f\" % cps)\n",
    "Efficiency_Peak1 = (cps/0.0617)/(164.6835987)#Activity at the measuring time\n",
    "print (\"Efficiency = %0.2f\" %Efficiency_Peak1)"
   ]
  },
  {
   "cell_type": "code",
   "execution_count": null,
   "metadata": {},
   "outputs": [],
   "source": []
  }
 ],
 "metadata": {
  "kernelspec": {
   "display_name": "Python 3",
   "language": "python",
   "name": "python3"
  },
  "language_info": {
   "codemirror_mode": {
    "name": "ipython",
    "version": 3
   },
   "file_extension": ".py",
   "mimetype": "text/x-python",
   "name": "python",
   "nbconvert_exporter": "python",
   "pygments_lexer": "ipython3",
   "version": "3.6.7"
  }
 },
 "nbformat": 4,
 "nbformat_minor": 2
}
