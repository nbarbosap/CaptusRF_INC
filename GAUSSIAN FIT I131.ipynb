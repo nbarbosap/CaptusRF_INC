{
 "cells": [
  {
   "cell_type": "markdown",
   "metadata": {},
   "source": [
    "# # I131 adjust spectrum and calibration (Source, glass vial 5 mL)"
   ]
  },
  {
   "cell_type": "code",
   "execution_count": 1,
   "metadata": {},
   "outputs": [],
   "source": [
    "import numpy as np\n",
    "import matplotlib\n",
    "import matplotlib.pyplot as plt\n",
    "import pylab as plb\n",
    "import scipy as scipy\n",
    "import pandas as pd\n",
    "import numpy as np\n",
    "\n",
    "from scipy import optimize\n",
    "from scipy.optimize import curve_fit\n",
    "from scipy import asarray as ar,exp\n",
    "from matplotlib.ticker import AutoMinorLocator\n",
    "from matplotlib import gridspec\n",
    "import matplotlib.ticker as ticker\n",
    "%matplotlib inline\n"
   ]
  },
  {
   "cell_type": "code",
   "execution_count": 2,
   "metadata": {},
   "outputs": [],
   "source": [
    "data = np.genfromtxt('dataI131.txt')\n",
    "x = np.genfromtxt('dataI131.txt',usecols=(0))\n",
    "def gaussian(x, height, center, width, offset):\n",
    "    return height*np.exp(-(x - center)**2/(2*width**2)) + offset\n",
    "def three_gaussians(x, h1, c1, w1, h2, c2, w2, h3, c3, w3, offset):\n",
    "    return (gaussian(x, h1, c1, w1, offset=0) +\n",
    "        gaussian(x, h2, c2, w2, offset=0) +\n",
    "        gaussian(x, h3, c3, w3, offset=0) + offset)\n",
    "def two_gaussians(x, h1, c1, w1, h2, c2, w2, offset):\n",
    "    return three_gaussians(x, h1, c1, w1, h2, c2, w2, 0,0,1, offset)"
   ]
  },
  {
   "cell_type": "code",
   "execution_count": 3,
   "metadata": {},
   "outputs": [],
   "source": [
    "#Actividad muestra en kBq\n",
    "#A_0 = (1425.24)‬\n",
    "#Peak3_branch = 0.815\n"
   ]
  },
  {
   "cell_type": "code",
   "execution_count": 4,
   "metadata": {},
   "outputs": [],
   "source": [
    "errfunc3 = lambda p, x, y: (three_gaussians(x, *p) - y)**2\n",
    "#errfunc2 = lambda p, x, y: (two_gaussians(x, *p) - y)**2"
   ]
  },
  {
   "cell_type": "code",
   "execution_count": 5,
   "metadata": {},
   "outputs": [],
   "source": [
    "guess3 = [52000, 170, 10, 33200, 290, 10, 290000, 377, 40, 0]  # I guess there are 3 peaks, 2 are clear, but between them there seems to be another one, based on the change in slope smoothness there\n",
    "#guess2 = [33200, 298, 50, 290000, 377, 40, 0]  # I removed the peak I'm not too sure about\n",
    "optim3, success = optimize.leastsq(errfunc3, guess3[:], args=(data[:,0], data[:,1]))\n",
    "#optim2, success = optimize.leastsq(errfunc2, guess2[:], args=(data[:,0], data[:,1]))\n",
    "\n",
    "\n",
    "perr_2gauss = np.sqrt(np.diag(optim3))\n",
    "\n",
    "pars_1 = optim3[0:3]\n",
    "pars_2 = optim3[3:6]\n",
    "pars_3 = optim3[6:9]\n",
    "\n",
    "gauss_peak_1 = gaussian(x, *pars_1,0)\n",
    "gauss_peak_2 = gaussian(x, *pars_2,0)\n",
    "gauss_peak_3 = gaussian(x, *pars_3,0)"
   ]
  },
  {
   "cell_type": "code",
   "execution_count": 6,
   "metadata": {},
   "outputs": [
    {
     "name": "stdout",
     "output_type": "stream",
     "text": [
      "-------------Peak 1-------------\n",
      "amplitude = 38955.74 (+/-) 197.37\n",
      "center = 129.19 (+/-) 11.37\n",
      "sigma = 74.32 (+/-) 8.62\n",
      "area = 3601410.13\n",
      "--------------------------------\n",
      "-------------Peak 2-------------\n",
      "amplitude = 25322.04 (+/-) 159.13\n",
      "center = 300.15 (+/-) 17.32\n",
      "sigma = 22.76 (+/-) 4.77\n",
      "area = 720581.14\n",
      "--------------------------------\n",
      "-------------Peak 3-------------\n",
      "amplitude = 272591.68 (+/-) 522.10\n",
      "center = 375.86 (+/-) 19.39\n",
      "sigma = 18.83 (+/-) 4.34\n",
      "area = 6276561.62\n",
      "--------------------------------\n"
     ]
    }
   ],
   "source": [
    "# this cell prints the fitting parameters with their errors\n",
    "print (\"-------------Peak 1-------------\")\n",
    "print (\"amplitude = %0.2f (+/-) %0.2f\" % (pars_1 [0],perr_2gauss[0,0]))\n",
    "print (\"center = %0.2f (+/-) %0.2f\" % (pars_1 [1], perr_2gauss[1,1]))\n",
    "print (\"sigma = %0.2f (+/-) %0.2f\" % (pars_1 [2], perr_2gauss[2,2]))\n",
    "print (\"area = %0.2f\" % np.trapz(gauss_peak_1))\n",
    "print (\"--------------------------------\")\n",
    "print (\"-------------Peak 2-------------\")\n",
    "print (\"amplitude = %0.2f (+/-) %0.2f\" % (optim3 [3], perr_2gauss[3,3]))\n",
    "print (\"center = %0.2f (+/-) %0.2f\" % (optim3 [4], perr_2gauss[4,4]))\n",
    "print (\"sigma = %0.2f (+/-) %0.2f\" % (optim3 [5], perr_2gauss[5,5]))\n",
    "print (\"area = %0.2f\" % np.trapz(gauss_peak_2))\n",
    "print (\"--------------------------------\")\n",
    "print (\"-------------Peak 3-------------\")\n",
    "print (\"amplitude = %0.2f (+/-) %0.2f\" % (optim3 [6], perr_2gauss[6,6]))\n",
    "print (\"center = %0.2f (+/-) %0.2f\" % (optim3 [7], perr_2gauss[7,7]))\n",
    "print (\"sigma = %0.2f (+/-) %0.2f\" % (optim3 [8], perr_2gauss[8,8]))\n",
    "print (\"area = %0.2f\" % np.trapz(gauss_peak_3))\n",
    "print (\"--------------------------------\")\n"
   ]
  },
  {
   "cell_type": "code",
   "execution_count": 14,
   "metadata": {},
   "outputs": [
    {
     "data": {
      "image/png": "[encoded data removed]",
      "text/plain": [
       "<Figure size 432x288 with 1 Axes>"
      ]
     },
     "metadata": {
      "needs_background": "light"
     },
     "output_type": "display_data"
    }
   ],
   "source": [
    "plt.plot(data[:,0], data[:,1], lw=1, c='g', label='measurement')\n",
    "#plt.plot(data[:,0], three_gaussians(data[:,0], *optim3),\n",
    " #   lw=3, c='b', label='fit of 3 Gaussians')\n",
    "#plt.plot(data[:,0], two_gaussians(data[:,0], *optim2),\n",
    "   # lw=1, c='r', ls='--', label='fit of 2 Gaussians')\n",
    "#plt.plot(data[:,0], gaussian(data[:,0], *pars_3,0),\n",
    "    #lw=1, c='r', ls='--', label='fit of 1 Gaussians')\n",
    "plt.title('Fig. 1 - Fit for I-131')\n",
    "plt.xlabel('Energy (keV)', fontsize=18)\n",
    "plt.xlim(0, 900)\n",
    "plt.ylabel('Counts' , fontsize=18)\n",
    "plt.legend(loc='best')\n",
    "plt.savefig('result.png')"
   ]
  },
  {
   "cell_type": "code",
   "execution_count": null,
   "metadata": {},
   "outputs": [],
   "source": [
    "err3 = np.sqrt(errfunc3(optim3, data[:,0], data[:,1])).sum()\n",
    "err2 = np.sqrt(errfunc2(optim2, data[:,0], data[:,1])).sum()\n",
    "print('Residual error when fitting 3 Gaussians: {}\\n'\n",
    "    'Residual error when fitting 2 Gaussians: {}'.format(err3, err2))"
   ]
  },
  {
   "cell_type": "code",
   "execution_count": null,
   "metadata": {},
   "outputs": [],
   "source": [
    "#Efficiency based on peak 3 in k Bq per count \n",
    "counts = (np.trapz(gauss_peak_3))\n",
    "print (\"Counts = %0.2f\" % counts)\n",
    "cps = (counts/60)\n",
    "print (\"Counts per second = %0.2f\" % cps)\n",
    "Efficiency_Peak3 = (cps/0.815)/(1417.542882)#Activity at the measuring time\n",
    "print (\"Efficiency = %0.2f\" %Efficiency_Peak3)"
   ]
  },
  {
   "cell_type": "code",
   "execution_count": null,
   "metadata": {},
   "outputs": [],
   "source": []
  },
  {
   "cell_type": "code",
   "execution_count": null,
   "metadata": {},
   "outputs": [],
   "source": []
  }
 ],
 "metadata": {
  "kernelspec": {
   "display_name": "Python 3",
   "language": "python",
   "name": "python3"
  },
  "language_info": {
   "codemirror_mode": {
    "name": "ipython",
    "version": 3
   },
   "file_extension": ".py",
   "mimetype": "text/x-python",
   "name": "python",
   "nbconvert_exporter": "python",
   "pygments_lexer": "ipython3",
   "version": "3.6.7"
  }
 },
 "nbformat": 4,
 "nbformat_minor": 2
}
